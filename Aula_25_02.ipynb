{
  "nbformat": 4,
  "nbformat_minor": 0,
  "metadata": {
    "colab": {
      "provenance": [],
      "authorship_tag": "ABX9TyNMMM9YRl41rkRJn0lPC+S+",
      "include_colab_link": true
    },
    "kernelspec": {
      "name": "python3",
      "display_name": "Python 3"
    },
    "language_info": {
      "name": "python"
    }
  },
  "cells": [
    {
      "cell_type": "markdown",
      "metadata": {
        "id": "view-in-github",
        "colab_type": "text"
      },
      "source": [
        "<a href=\"https://colab.research.google.com/github/valeriaasilva/valeriaasilva/blob/main/Aula_25_02.ipynb\" target=\"_parent\"><img src=\"https://colab.research.google.com/assets/colab-badge.svg\" alt=\"Open In Colab\"/></a>"
      ]
    },
    {
      "cell_type": "code",
      "execution_count": 1,
      "metadata": {
        "id": "YLT6jX69ogf8"
      },
      "outputs": [],
      "source": [
        "# Importar as seguintes bibliotecas:\n",
        "import pandas as pd\n",
        "import matplotlib.pyplot as plt"
      ]
    },
    {
      "cell_type": "code",
      "source": [
        "# Criar uma nova tabela:\n",
        "valeria = {'Mês': ['Janeiro', 'Fevereiro', 'Março', 'Abril', 'Maio', 'Junho'],    'Vendas': [50, 45, 60, 55, 70, 65]}\n",
        "print (valeria)"
      ],
      "metadata": {
        "colab": {
          "base_uri": "https://localhost:8080/"
        },
        "id": "xS0Kl-5zon0a",
        "outputId": "0d103a2f-eb83-437c-b709-61cedb0a43fe"
      },
      "execution_count": 3,
      "outputs": [
        {
          "output_type": "stream",
          "name": "stdout",
          "text": [
            "{'Mês': ['Janeiro', 'Fevereiro', 'Março', 'Abril', 'Maio', 'Junho'], 'Vendas': [50, 45, 60, 55, 70, 65]}\n"
          ]
        }
      ]
    },
    {
      "cell_type": "code",
      "source": [
        "df = pd.DataFrame(valeria)\n",
        "print(df.info())"
      ],
      "metadata": {
        "colab": {
          "base_uri": "https://localhost:8080/"
        },
        "id": "dRfBlROBpcyC",
        "outputId": "4db551c2-1bef-4981-846d-aa401f10fec8"
      },
      "execution_count": 6,
      "outputs": [
        {
          "output_type": "stream",
          "name": "stdout",
          "text": [
            "<class 'pandas.core.frame.DataFrame'>\n",
            "RangeIndex: 6 entries, 0 to 5\n",
            "Data columns (total 2 columns):\n",
            " #   Column  Non-Null Count  Dtype \n",
            "---  ------  --------------  ----- \n",
            " 0   Mês     6 non-null      object\n",
            " 1   Vendas  6 non-null      int64 \n",
            "dtypes: int64(1), object(1)\n",
            "memory usage: 228.0+ bytes\n",
            "None\n"
          ]
        }
      ]
    },
    {
      "cell_type": "code",
      "source": [
        "print (df)"
      ],
      "metadata": {
        "colab": {
          "base_uri": "https://localhost:8080/"
        },
        "id": "i8FHRsdOqisY",
        "outputId": "90e0b94b-1292-4c4a-9219-8b39de93aebe"
      },
      "execution_count": 7,
      "outputs": [
        {
          "output_type": "stream",
          "name": "stdout",
          "text": [
            "         Mês  Vendas\n",
            "0    Janeiro      50\n",
            "1  Fevereiro      45\n",
            "2      Março      60\n",
            "3      Abril      55\n",
            "4       Maio      70\n",
            "5      Junho      65\n"
          ]
        }
      ]
    },
    {
      "cell_type": "code",
      "source": [
        "#Apresentar o resumo estatístico:\n",
        "descricao = df['Vendas'].describe()\n",
        "print(descricao)"
      ],
      "metadata": {
        "colab": {
          "base_uri": "https://localhost:8080/"
        },
        "id": "XY_y8wDLqr81",
        "outputId": "1d22f8dd-fa11-4426-9f79-4a799fc6296f"
      },
      "execution_count": 8,
      "outputs": [
        {
          "output_type": "stream",
          "name": "stdout",
          "text": [
            "count     6.000000\n",
            "mean     57.500000\n",
            "std       9.354143\n",
            "min      45.000000\n",
            "25%      51.250000\n",
            "50%      57.500000\n",
            "75%      63.750000\n",
            "max      70.000000\n",
            "Name: Vendas, dtype: float64\n"
          ]
        }
      ]
    },
    {
      "cell_type": "code",
      "source": [
        "#Gerar um gráfico de barras:\n",
        "plt.figure(figsize=(8, 6))\n",
        "plt.bar(df['Mês'], df['Vendas'], color='skyblue')\n",
        "plt.title('Vendas Mensais')\n",
        "plt.xlabel('Mês')\n",
        "plt.ylabel('Vendas')\n",
        "plt.show()"
      ],
      "metadata": {
        "colab": {
          "base_uri": "https://localhost:8080/",
          "height": 564
        },
        "id": "05ZAKBZ3rQiw",
        "outputId": "18d8d375-efe5-4b1e-cd45-9915ff0300cd"
      },
      "execution_count": 9,
      "outputs": [
        {
          "output_type": "display_data",
          "data": {
            "text/plain": [
              "<Figure size 800x600 with 1 Axes>"
            ],
            "image/png": "[encoded data removed]"
          },
          "metadata": {}
        }
      ]
    }
  ]
}